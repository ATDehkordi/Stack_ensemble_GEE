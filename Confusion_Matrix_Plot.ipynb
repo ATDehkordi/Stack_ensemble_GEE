{
 "cells": [
  {
   "cell_type": "code",
   "execution_count": null,
   "metadata": {},
   "outputs": [],
   "source": [
    "import numpy as np\n",
    "import matplotlib.pyplot as plt\n",
    "\n",
    "plt.rcParams['font.family']= \"Liberation Serif\"\n",
    "\n",
    "# Define confusion matrices as numpy arrays\n",
    "confusion_matrix_Stack_2020 = np.array([[264, 0, 1, 0, 21],\n",
    "                                        [0, 426, 3, 0, 1],\n",
    "                                        [1, 7, 62, 2, 1],\n",
    "                                        [0, 0, 0, 198, 15],\n",
    "                                        [15, 4, 1, 14, 459]])\n",
    "\n",
    "# Create a figure with a single subplot\n",
    "fig, axs = plt.subplots(nrows=1, ncols=1, figsize=(12, 6))\n",
    "\n",
    "# Plot the confusion matrix\n",
    "pos = axs.imshow(confusion_matrix_Stack_2020, cmap='Reds')\n",
    "fig.colorbar(pos, ax=axs)\n",
    "# Set labels for axes\n",
    "tick_marks = np.arange(5)\n",
    "axs.set_xticks(tick_marks)\n",
    "axs.set_xticklabels([' \\nC1', ' \\nC2', ' \\nC3', ' \\nC4', ' \\nC5'], fontsize=20, va='center')\n",
    "axs.set_yticks(tick_marks)\n",
    "axs.set_yticklabels(['C1', 'C2', 'C3', 'C4', 'C5'], rotation=90, fontsize=20, va='center')\n",
    "\n",
    "# Add values to each cell of the matrix\n",
    "thresh = confusion_matrix_Stack_2020.max() / 2.\n",
    "for i in range(5):\n",
    "    for j in range(5):\n",
    "        axs.text(j, i, format(confusion_matrix_Stack_2020[i, j]),\n",
    "                  horizontalalignment=\"center\",\n",
    "                  color=\"white\" if confusion_matrix_Stack_2020[i, j] > thresh else \"black\", fontsize=20)\n",
    "\n",
    "# fig.suptitle(\"Confusion Matrices Sentinel & Landsat {2020 & 2022}\")\n",
    "axs.set_title(\"CM_Stack_2021\", fontsize=20)\n",
    "axs.set_xlabel(\"True label\", fontsize=20)\n",
    "axs.set_ylabel(\"Predicted label\", fontsize=20)\n",
    "\n",
    "plt.show()"
   ]
  }
 ],
 "metadata": {
  "language_info": {
   "name": "python"
  }
 },
 "nbformat": 4,
 "nbformat_minor": 2
}
